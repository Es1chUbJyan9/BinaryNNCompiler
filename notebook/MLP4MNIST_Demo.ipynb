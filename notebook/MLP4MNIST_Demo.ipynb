{
 "cells": [
  {
   "cell_type": "markdown",
   "metadata": {},
   "source": [
    "# 一、初始化\n",
    "## 載入 PYNQ 庫"
   ]
  },
  {
   "cell_type": "code",
   "execution_count": 1,
   "metadata": {},
   "outputs": [
    {
     "data": {
      "application/javascript": [
       "\n",
       "require(['notebook/js/codecell'], function(codecell) {\n",
       "  codecell.CodeCell.options_default.highlight_modes[\n",
       "      'magic_text/x-csrc'] = {'reg':[/^%%microblaze/]};\n",
       "  Jupyter.notebook.events.one('kernel_ready.Kernel', function(){\n",
       "      Jupyter.notebook.get_cells().map(function(cell){\n",
       "          if (cell.cell_type == 'code'){ cell.auto_highlight(); } }) ;\n",
       "  });\n",
       "});\n"
      ]
     },
     "metadata": {},
     "output_type": "display_data"
    }
   ],
   "source": [
    "from pynq import Overlay, GPIO, Register, Xlnk, PL\n",
    "import numpy as np\n",
    "import time"
   ]
  },
  {
   "cell_type": "markdown",
   "metadata": {},
   "source": [
    "## 配置 FPGA"
   ]
  },
  {
   "cell_type": "code",
   "execution_count": 2,
   "metadata": {},
   "outputs": [],
   "source": [
    "#overlay = Overlay('MLP4MNIST.bit')\n",
    "overlay = Overlay('MLP.bit')"
   ]
  },
  {
   "cell_type": "markdown",
   "metadata": {},
   "source": [
    "## 定義 ResetPin & CtrlReg"
   ]
  },
  {
   "cell_type": "code",
   "execution_count": 3,
   "metadata": {},
   "outputs": [],
   "source": [
    "RESET_VALUE = 0\n",
    "NRESET_VALUE = 1\n",
    "\n",
    "MYBNN_AP_CTRL_OFF = 0x00\n",
    "MYBNN_AP_CTRL_START_IDX = 0\n",
    "MYBNN_AP_CTRL_DONE_IDX  = 1\n",
    "MYBNN_AP_CTRL_IDLE_IDX  = 2\n",
    "MYBNN_AP_CTRL_READY_IDX = 3\n",
    "MYBNN_COEFF_OFFS  = [0x1c, 0x28, 0x34, 0x40, 0x4c, 0x58, 0x64, 0x70, 0x7c]\n",
    "MYBNN_LENGTH_OFF  = 0x10\n",
    "\n",
    "overlay.__resetPin = GPIO(GPIO.get_gpio_pin(0), \"out\")\n",
    "overlay.__ap_ctrl = Register(overlay.BlackBoxJam.mmio.base_addr, 32)\n",
    "overlay.xlnk = Xlnk()"
   ]
  },
  {
   "cell_type": "markdown",
   "metadata": {},
   "source": [
    "# 二、使用 ARM-FPGA 異構運算\n",
    "## 處理 MNIST 標籤"
   ]
  },
  {
   "cell_type": "code",
   "execution_count": 4,
   "metadata": {},
   "outputs": [],
   "source": [
    "labels = []\n",
    "with open(\"/home/xilinx/jupyter_notebooks/MLP4MNIST_Demo/t10k-labels-idx1-ubyte\",\"rb\") as ubyte_labels:\n",
    "    magicNum = int.from_bytes(ubyte_labels.read(4), byteorder=\"big\")\n",
    "    countLbl = int.from_bytes(ubyte_labels.read(4), byteorder=\"big\")\n",
    "    for idx in range(countLbl):\n",
    "        labels.append(int.from_bytes(ubyte_labels.read(1), byteorder=\"big\"))\n",
    "    ubyte_labels.close()"
   ]
  },
  {
   "cell_type": "markdown",
   "metadata": {},
   "source": [
    "## 處理 MNIST 圖片"
   ]
  },
  {
   "cell_type": "code",
   "execution_count": 5,
   "metadata": {},
   "outputs": [],
   "source": [
    "numpic = 10000\n",
    "imgArr = []\n",
    "X_train = []\n",
    "for i in range(28):\n",
    "    X_train.append([])\n",
    "    for j in range(28):\n",
    "        X_train[i].append([])\n",
    "        \n",
    "with open(\"/home/xilinx/jupyter_notebooks/MLP4MNIST_Demo/t10k-images-idx3-ubyte\",\"rb\") as img_file:\n",
    "    img_file.read(16)\n",
    "    for jdx in range(0,numpic):\n",
    "    \n",
    "        for i in range(28):\n",
    "            for j in range(28):\n",
    "                X_train[i][j] = int.from_bytes(img_file.read(1),byteorder='big')\n",
    "                \n",
    "        imgVet = []\n",
    "        for i in range(28):\n",
    "            for j in range(28):\n",
    "                if (X_train[i][j]/255)*(1-(-1))+(-1) >= 0:\n",
    "                    imgVet.append(1)\n",
    "                else:\n",
    "                    imgVet.append(0)\n",
    "        for i in range(48):\n",
    "            imgVet.append(0)\n",
    "                \n",
    "        for j in range(13):\n",
    "            imgNum = \"\"\n",
    "            for i in range(64):\n",
    "                if imgVet[64*j+i] == 1:\n",
    "                    imgNum += \"1\"\n",
    "                else:\n",
    "                    imgNum += \"0\"\n",
    "            imgArr.append(int(imgNum[::-1],2))\n",
    "            \n",
    "    img_file.close()"
   ]
  },
  {
   "cell_type": "code",
   "execution_count": 40,
   "metadata": {},
   "outputs": [
    {
     "name": "stdout",
     "output_type": "stream",
     "text": [
      "130000\n"
     ]
    }
   ],
   "source": [
    "signal = imgArr\n",
    "coeffs = [1, 0, 0, 0, 0, 0, 0, 0, 0]\n",
    "print(len(signal))"
   ]
  },
  {
   "cell_type": "markdown",
   "metadata": {},
   "source": [
    "## 放開 Reset "
   ]
  },
  {
   "cell_type": "code",
   "execution_count": 41,
   "metadata": {},
   "outputs": [],
   "source": [
    "overlay.__resetPin.write(NRESET_VALUE)"
   ]
  },
  {
   "cell_type": "markdown",
   "metadata": {},
   "source": [
    "## 載入參數"
   ]
  },
  {
   "cell_type": "code",
   "execution_count": 42,
   "metadata": {},
   "outputs": [],
   "source": [
    "for (offset, coeff) in zip(MYBNN_COEFF_OFFS, coeffs):\n",
    "    overlay.BlackBoxJam.write(offset, coeff)\n",
    "    \n",
    "overlay.BlackBoxJam.write(MYBNN_LENGTH_OFF, numpic)"
   ]
  },
  {
   "cell_type": "markdown",
   "metadata": {},
   "source": [
    "## 申請 DMA 記憶體空間"
   ]
  },
  {
   "cell_type": "code",
   "execution_count": 43,
   "metadata": {},
   "outputs": [],
   "source": [
    "cmabuf_src = overlay.xlnk.cma_array([len(signal)], np.uint64)\n",
    "cmabuf_dest = overlay.xlnk.cma_array(numpic+1, np.uint64)"
   ]
  },
  {
   "cell_type": "markdown",
   "metadata": {},
   "source": [
    "## 準備輸入資料"
   ]
  },
  {
   "cell_type": "code",
   "execution_count": 44,
   "metadata": {},
   "outputs": [],
   "source": [
    "for i in range(len(signal)):\n",
    "    cmabuf_src[i] = signal[i]"
   ]
  },
  {
   "cell_type": "markdown",
   "metadata": {},
   "source": [
    "## 初始化 DMA"
   ]
  },
  {
   "cell_type": "code",
   "execution_count": 45,
   "metadata": {},
   "outputs": [],
   "source": [
    "overlay.hlsDmaEngine.sendchannel.transfer(cmabuf_src)\n",
    "overlay.hlsDmaEngine.recvchannel.transfer(cmabuf_dest)"
   ]
  },
  {
   "cell_type": "markdown",
   "metadata": {},
   "source": [
    "## 啟動計算核心並等待 DMA 中斷"
   ]
  },
  {
   "cell_type": "code",
   "execution_count": 46,
   "metadata": {},
   "outputs": [],
   "source": [
    "overlay.__ap_ctrl[MYBNN_AP_CTRL_START_IDX] = 1\n",
    "\n",
    "t0 = time.clock()\n",
    "\n",
    "overlay.hlsDmaEngine.sendchannel.wait()\n",
    "overlay.hlsDmaEngine.recvchannel.wait()\n",
    "\n",
    "overlay.__ap_ctrl[MYBNN_AP_CTRL_START_IDX] = 0\n",
    "\n",
    "t1 = time.clock()"
   ]
  },
  {
   "cell_type": "markdown",
   "metadata": {},
   "source": [
    "## 鎖住 Reset "
   ]
  },
  {
   "cell_type": "code",
   "execution_count": 47,
   "metadata": {},
   "outputs": [],
   "source": [
    "overlay.__resetPin.write(RESET_VALUE)"
   ]
  },
  {
   "cell_type": "markdown",
   "metadata": {},
   "source": [
    "## 取回輸出資料"
   ]
  },
  {
   "cell_type": "code",
   "execution_count": 48,
   "metadata": {},
   "outputs": [],
   "source": [
    "output = cmabuf_dest.tolist()"
   ]
  },
  {
   "cell_type": "markdown",
   "metadata": {},
   "source": [
    "## 釋放空間"
   ]
  },
  {
   "cell_type": "code",
   "execution_count": 49,
   "metadata": {},
   "outputs": [],
   "source": [
    "cmabuf_dest.freebuffer()\n",
    "cmabuf_src.freebuffer()"
   ]
  },
  {
   "cell_type": "markdown",
   "metadata": {},
   "source": [
    "# 三、驗證結果"
   ]
  },
  {
   "cell_type": "code",
   "execution_count": 50,
   "metadata": {},
   "outputs": [
    {
     "name": "stdout",
     "output_type": "stream",
     "text": [
      "Accuracy of MNIST: 98.42 %\n",
      "Latency: 99.28899999999885 ms\n",
      "Second per image: 9.928899999999885 us\n",
      "FPS: 100716.09140992572\n",
      "Throughput: 19.978472722305824 MB/s\n",
      "Data size: 0.9918212890625 MB\n"
     ]
    }
   ],
   "source": [
    "import math\n",
    "testnum = 0\n",
    "out = 0\n",
    "\n",
    "for i in range(0,numpic):\n",
    "    if(output[i] == 0):\n",
    "        out = 0\n",
    "    else:\n",
    "        out = math.log(output[i],2)\n",
    "    if(labels[i%10000] != out):\n",
    "        testnum+=1\n",
    "        \n",
    "size = ((64*len(signal))/(8*1024*1024))\n",
    "print(\"Accuracy of MNIST:\",(1-testnum/numpic)*100,\"%\")\n",
    "print(\"Latency:\",(t1-t0)*math.pow(10, 3),\"ms\")\n",
    "print(\"Second per image:\",(t1-t0)*math.pow(10, 6)/numpic, \"us\")\n",
    "print(\"FPS:\",1/(t1-t0)*numpic)\n",
    "print(\"Throughput:\",size*(1/(t1-t0))*2, \"MB/s\")\n",
    "print(\"Data size:\",size,\"MB\")"
   ]
  },
  {
   "cell_type": "code",
   "execution_count": null,
   "metadata": {},
   "outputs": [],
   "source": []
  }
 ],
 "metadata": {
  "celltoolbar": "Raw Cell Format",
  "kernelspec": {
   "display_name": "Python 3",
   "language": "python",
   "name": "python3"
  },
  "language_info": {
   "codemirror_mode": {
    "name": "ipython",
    "version": 3
   },
   "file_extension": ".py",
   "mimetype": "text/x-python",
   "name": "python",
   "nbconvert_exporter": "python",
   "pygments_lexer": "ipython3",
   "version": "3.6.5"
  }
 },
 "nbformat": 4,
 "nbformat_minor": 2
}
